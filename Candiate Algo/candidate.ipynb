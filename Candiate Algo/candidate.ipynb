{
 "cells": [
  {
   "cell_type": "markdown",
   "metadata": {},
   "source": [
    "# Candidate Elimination Algorithm"
   ]
  },
  {
   "cell_type": "code",
   "execution_count": 1,
   "metadata": {},
   "outputs": [],
   "source": [
    "import pandas as pd\n",
    "import numpy as np"
   ]
  },
  {
   "cell_type": "code",
   "execution_count": 2,
   "metadata": {},
   "outputs": [
    {
     "data": {
      "text/html": [
       "<div>\n",
       "<style scoped>\n",
       "    .dataframe tbody tr th:only-of-type {\n",
       "        vertical-align: middle;\n",
       "    }\n",
       "\n",
       "    .dataframe tbody tr th {\n",
       "        vertical-align: top;\n",
       "    }\n",
       "\n",
       "    .dataframe thead th {\n",
       "        text-align: right;\n",
       "    }\n",
       "</style>\n",
       "<table border=\"1\" class=\"dataframe\">\n",
       "  <thead>\n",
       "    <tr style=\"text-align: right;\">\n",
       "      <th></th>\n",
       "      <th>Sky</th>\n",
       "      <th>Air temp</th>\n",
       "      <th>Humidity</th>\n",
       "      <th>Wind</th>\n",
       "      <th>Water</th>\n",
       "      <th>Forecast</th>\n",
       "      <th>Enjoy sport</th>\n",
       "    </tr>\n",
       "  </thead>\n",
       "  <tbody>\n",
       "    <tr>\n",
       "      <th>0</th>\n",
       "      <td>Sunny</td>\n",
       "      <td>Warm</td>\n",
       "      <td>Normal</td>\n",
       "      <td>Strong</td>\n",
       "      <td>Warm</td>\n",
       "      <td>Same</td>\n",
       "      <td>No</td>\n",
       "    </tr>\n",
       "    <tr>\n",
       "      <th>1</th>\n",
       "      <td>Sunny</td>\n",
       "      <td>Warm</td>\n",
       "      <td>High</td>\n",
       "      <td>Strong</td>\n",
       "      <td>Warm</td>\n",
       "      <td>Same</td>\n",
       "      <td>Yes</td>\n",
       "    </tr>\n",
       "    <tr>\n",
       "      <th>2</th>\n",
       "      <td>Rainy</td>\n",
       "      <td>Cold</td>\n",
       "      <td>High</td>\n",
       "      <td>Strong</td>\n",
       "      <td>Warm</td>\n",
       "      <td>Change</td>\n",
       "      <td>No</td>\n",
       "    </tr>\n",
       "    <tr>\n",
       "      <th>3</th>\n",
       "      <td>Sunny</td>\n",
       "      <td>Warm</td>\n",
       "      <td>High</td>\n",
       "      <td>Strong</td>\n",
       "      <td>Cool</td>\n",
       "      <td>Change</td>\n",
       "      <td>Yes</td>\n",
       "    </tr>\n",
       "  </tbody>\n",
       "</table>\n",
       "</div>"
      ],
      "text/plain": [
       "    Sky  Air temp Humidity    Wind  Water Forecast Enjoy sport\n",
       "0  Sunny     Warm   Normal  Strong  Warm      Same          No\n",
       "1  Sunny     Warm     High  Strong   Warm     Same         Yes\n",
       "2  Rainy     Cold     High  Strong   Warm   Change          No\n",
       "3  Sunny     Warm     High  Strong   Cool   Change         Yes"
      ]
     },
     "execution_count": 2,
     "metadata": {},
     "output_type": "execute_result"
    }
   ],
   "source": [
    "data_path = '/home/hp/Downloads/FML CODES!/Candiate Algo/dataset.csv'\n",
    "data = pd.read_csv(data_path)\n",
    "data.head()"
   ]
  },
  {
   "cell_type": "code",
   "execution_count": 3,
   "metadata": {},
   "outputs": [
    {
     "name": "stdout",
     "output_type": "stream",
     "text": [
      "[['Sunny' 'Warm' 'Normal' 'Strong' 'Warm ' 'Same']\n",
      " ['Sunny' 'Warm' 'High' 'Strong' 'Warm' 'Same']\n",
      " ['Rainy' 'Cold' 'High' 'Strong' 'Warm' 'Change']\n",
      " ['Sunny' 'Warm' 'High' 'Strong' 'Cool' 'Change']]\n"
     ]
    }
   ],
   "source": [
    "data_attributes = np.array(data.iloc[:, :-1])\n",
    "print(data_attributes)"
   ]
  },
  {
   "cell_type": "code",
   "execution_count": 4,
   "metadata": {},
   "outputs": [
    {
     "data": {
      "text/plain": [
       "array(['No', 'Yes', 'No', 'Yes'], dtype=object)"
      ]
     },
     "execution_count": 4,
     "metadata": {},
     "output_type": "execute_result"
    }
   ],
   "source": [
    "data_target = np.array(data.iloc[:, -1])\n",
    "data_target"
   ]
  },
  {
   "cell_type": "code",
   "execution_count": 10,
   "metadata": {},
   "outputs": [],
   "source": [
    "def learn(attributes, target):\n",
    "    print('Initializing Specific & General Hypothesis: \\n')\n",
    "\n",
    "    specific_hypo = attributes[0].copy()\n",
    "    print(f'The specific hypothesis is - {specific_hypo}')\n",
    "\n",
    "    general_hypo = [ ['?' for i in range(len(specific_hypo))] for i in range(len(specific_hypo))]\n",
    "    print(f\"The general hypothesis is {general_hypo}\")\n",
    "\n",
    "    print('____HYPOTHESIS INTIALISED__')\n",
    "\n",
    "    for index, value in enumerate(attributes):\n",
    "        print(f'The {index + 1} instance is {value}')\n",
    "\n",
    "        if target[index] == 'Yes': \n",
    "            print(\"The instance is positive\")\n",
    "            \n",
    "            for x in range(len(specific_hypo)):\n",
    "                if value[x] != specific_hypo[x]:\n",
    "                    specific_hypo[x] = '?'\n",
    "                    general_hypo[x][x] = '?'\n",
    "\n",
    "        if target[index] == \"No\":\n",
    "            print(\"The instance is negative\")\n",
    "\n",
    "            for x in range(len(specific_hypo)):\n",
    "                if value[x] != specific_hypo[x]:\n",
    "                    general_hypo[x][x] = specific_hypo[x]\n",
    "                else: \n",
    "                    general_hypo[x][x] = '?'\n",
    "        \n",
    "        print(f'The specific hypothesis after {index+1} instance is  {specific_hypo}')\n",
    "        print(f'The general hypothesis after {index+1} instance is {general_hypo}')\n",
    "    \n",
    "    indices = [index for index, value in enumerate(specific_hypo) if value == ['?','?','?','?','?','?']]\n",
    "    for i in indices:\n",
    "        general_hypo.remove(['?','?','?','?','?','?'])\n",
    "    return specific_hypo, general_hypo"
   ]
  },
  {
   "cell_type": "code",
   "execution_count": 12,
   "metadata": {},
   "outputs": [
    {
     "name": "stdout",
     "output_type": "stream",
     "text": [
      "Initializing Specific & General Hypothesis: \n",
      "\n",
      "The specific hypothesis is - ['Sunny' 'Warm' 'Normal' 'Strong' 'Warm ' 'Same']\n",
      "The general hypothesis is [['?', '?', '?', '?', '?', '?'], ['?', '?', '?', '?', '?', '?'], ['?', '?', '?', '?', '?', '?'], ['?', '?', '?', '?', '?', '?'], ['?', '?', '?', '?', '?', '?'], ['?', '?', '?', '?', '?', '?']]\n",
      "____HYPOTHESIS INTIALISED__\n",
      "The 1 instance is ['Sunny' 'Warm' 'Normal' 'Strong' 'Warm ' 'Same']\n",
      "The instance is negative\n",
      "The specific hypothesis after 1 instance is  ['Sunny' 'Warm' 'Normal' 'Strong' 'Warm ' 'Same']\n",
      "The general hypothesis after 1 instance is [['?', '?', '?', '?', '?', '?'], ['?', '?', '?', '?', '?', '?'], ['?', '?', '?', '?', '?', '?'], ['?', '?', '?', '?', '?', '?'], ['?', '?', '?', '?', '?', '?'], ['?', '?', '?', '?', '?', '?']]\n",
      "The 2 instance is ['Sunny' 'Warm' 'High' 'Strong' 'Warm' 'Same']\n",
      "The instance is positive\n",
      "The specific hypothesis after 2 instance is  ['Sunny' 'Warm' '?' 'Strong' '?' 'Same']\n",
      "The general hypothesis after 2 instance is [['?', '?', '?', '?', '?', '?'], ['?', '?', '?', '?', '?', '?'], ['?', '?', '?', '?', '?', '?'], ['?', '?', '?', '?', '?', '?'], ['?', '?', '?', '?', '?', '?'], ['?', '?', '?', '?', '?', '?']]\n",
      "The 3 instance is ['Rainy' 'Cold' 'High' 'Strong' 'Warm' 'Change']\n",
      "The instance is negative\n",
      "The specific hypothesis after 3 instance is  ['Sunny' 'Warm' '?' 'Strong' '?' 'Same']\n",
      "The general hypothesis after 3 instance is [['Sunny', '?', '?', '?', '?', '?'], ['?', 'Warm', '?', '?', '?', '?'], ['?', '?', '?', '?', '?', '?'], ['?', '?', '?', '?', '?', '?'], ['?', '?', '?', '?', '?', '?'], ['?', '?', '?', '?', '?', 'Same']]\n",
      "The 4 instance is ['Sunny' 'Warm' 'High' 'Strong' 'Cool' 'Change']\n",
      "The instance is positive\n",
      "The specific hypothesis after 4 instance is  ['Sunny' 'Warm' '?' 'Strong' '?' '?']\n",
      "The general hypothesis after 4 instance is [['Sunny', '?', '?', '?', '?', '?'], ['?', 'Warm', '?', '?', '?', '?'], ['?', '?', '?', '?', '?', '?'], ['?', '?', '?', '?', '?', '?'], ['?', '?', '?', '?', '?', '?'], ['?', '?', '?', '?', '?', '?']]\n",
      "The final specific hypothesis is ['Sunny' 'Warm' '?' 'Strong' '?' '?']\n",
      "The final general hypothesis is [['Sunny', '?', '?', '?', '?', '?'], ['?', 'Warm', '?', '?', '?', '?'], ['?', '?', '?', '?', '?', '?'], ['?', '?', '?', '?', '?', '?'], ['?', '?', '?', '?', '?', '?'], ['?', '?', '?', '?', '?', '?']]\n"
     ]
    }
   ],
   "source": [
    "s_final, g_final = learn(data_attributes, data_target)\n",
    "print(f'The final specific hypothesis is {s_final}')\n",
    "print(f'The final general hypothesis is {g_final}')"
   ]
  }
 ],
 "metadata": {
  "kernelspec": {
   "display_name": "Python 3.10.6 64-bit",
   "language": "python",
   "name": "python3"
  },
  "language_info": {
   "codemirror_mode": {
    "name": "ipython",
    "version": 3
   },
   "file_extension": ".py",
   "mimetype": "text/x-python",
   "name": "python",
   "nbconvert_exporter": "python",
   "pygments_lexer": "ipython3",
   "version": "3.10.6"
  },
  "orig_nbformat": 4,
  "vscode": {
   "interpreter": {
    "hash": "916dbcbb3f70747c44a77c7bcd40155683ae19c65e1c03b4aa3499c5328201f1"
   }
  }
 },
 "nbformat": 4,
 "nbformat_minor": 2
}
